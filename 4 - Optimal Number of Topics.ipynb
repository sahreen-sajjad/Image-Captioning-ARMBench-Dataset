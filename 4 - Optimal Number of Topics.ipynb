{
 "cells": [
  {
   "cell_type": "markdown",
   "metadata": {},
   "source": [
    "# Optimal Number of Topics (K)"
   ]
  },
  {
   "cell_type": "markdown",
   "metadata": {},
   "source": [
    "Before implementing LDA and NMF, it is important to choose an optimal value of K (No. of topics). This is done by employing LDA on a range of topics and calculating the coherence and perplexity scores."
   ]
  },
  {
   "cell_type": "code",
   "execution_count": 3,
   "metadata": {
    "colab": {
     "base_uri": "https://localhost:8080/"
    },
    "id": "8UobNY2qVb5y",
    "outputId": "41f504e9-8cff-48e5-8899-52212ebc9673"
   },
   "outputs": [],
   "source": [
    "import pandas as pd\n",
    "import os\n",
    "os.chdir('D:/Down') #Replace the location to where the output.csv file is stored.\n",
    "df = pd.read_csv('output.csv')"
   ]
  },
  {
   "cell_type": "code",
   "execution_count": 3,
   "metadata": {
    "colab": {
     "base_uri": "https://localhost:8080/"
    },
    "id": "E5WYODGIWAld",
    "outputId": "9ccdc5b1-b51b-4867-d49c-4f73a43745ce"
   },
   "outputs": [
    {
     "name": "stdout",
     "output_type": "stream",
     "text": [
      "Requirement already satisfied: nltk in /usr/local/lib/python3.10/dist-packages (3.8.1)\n",
      "Requirement already satisfied: click in /usr/local/lib/python3.10/dist-packages (from nltk) (8.1.6)\n",
      "Requirement already satisfied: joblib in /usr/local/lib/python3.10/dist-packages (from nltk) (1.3.1)\n",
      "Requirement already satisfied: regex>=2021.8.3 in /usr/local/lib/python3.10/dist-packages (from nltk) (2022.10.31)\n",
      "Requirement already satisfied: tqdm in /usr/local/lib/python3.10/dist-packages (from nltk) (4.65.0)\n"
     ]
    }
   ],
   "source": [
    "pip install nltk"
   ]
  },
  {
   "cell_type": "code",
   "execution_count": 2,
   "metadata": {
    "colab": {
     "base_uri": "https://localhost:8080/"
    },
    "id": "PFXmbCc6VsOY",
    "outputId": "49a82600-6b9a-4796-bb07-606185964d56"
   },
   "outputs": [
    {
     "name": "stderr",
     "output_type": "stream",
     "text": [
      "[nltk_data] Downloading package stopwords to /root/nltk_data...\n",
      "[nltk_data]   Unzipping corpora/stopwords.zip.\n"
     ]
    }
   ],
   "source": [
    "#import all necessary libraries\n",
    "import re\n",
    "\n",
    "import numpy as np\n",
    "\n",
    "import pandas as pd\n",
    "\n",
    "from pprint import pprint\n",
    "\n",
    "import gensim\n",
    "\n",
    "import gensim.corpora as corpora\n",
    "\n",
    "from gensim.utils import simple_preprocess\n",
    "\n",
    "from nltk.corpus import stopwords\n",
    "\n",
    "from gensim.models import CoherenceModel\n",
    "\n",
    "import spacy\n",
    "\n",
    "import matplotlib.pyplot as plt\n",
    "\n",
    "import nltk\n",
    "\n",
    "import spacy\n",
    "\n",
    "nltk.download('stopwords')\n",
    "\n",
    "nlp=spacy.load('en_core_web_sm',disable=['parser', 'ner'])\n"
   ]
  },
  {
   "cell_type": "markdown",
   "metadata": {},
   "source": [
    "Before employing LDA, the captions are preprocessed. This includes tokenisation, stemming, stopword removal, bigram modelling, and lemmatization. This is carried out using NLTK (Natural Language ToolKit)"
   ]
  },
  {
   "cell_type": "code",
   "execution_count": 5,
   "metadata": {
    "id": "kDB1vd1tVukC"
   },
   "outputs": [],
   "source": [
    "def tokenize_text(text):\n",
    "    if isinstance(text, str):\n",
    "        return word_tokenize(text.lower())\n",
    "    else:\n",
    "        return []\n"
   ]
  },
  {
   "cell_type": "code",
   "execution_count": 7,
   "metadata": {
    "colab": {
     "base_uri": "https://localhost:8080/"
    },
    "id": "elgw5FDWV91O",
    "outputId": "12a77dd4-c887-4c0b-9720-c86285c699b6"
   },
   "outputs": [
    {
     "name": "stderr",
     "output_type": "stream",
     "text": [
      "[nltk_data] Downloading package punkt to /root/nltk_data...\n",
      "[nltk_data]   Unzipping tokenizers/punkt.zip.\n"
     ]
    },
    {
     "data": {
      "text/plain": [
       "True"
      ]
     },
     "execution_count": 7,
     "metadata": {},
     "output_type": "execute_result"
    }
   ],
   "source": [
    "from nltk.tokenize import word_tokenize\n",
    "nltk.download('punkt')"
   ]
  },
  {
   "cell_type": "code",
   "execution_count": 30,
   "metadata": {
    "id": "lbfls306Vvz2"
   },
   "outputs": [],
   "source": [
    "df[\"tokens\"] = df[\"Container\"].apply(tokenize_text)"
   ]
  },
  {
   "cell_type": "code",
   "execution_count": 10,
   "metadata": {
    "id": "C6XtklVWWK_J"
   },
   "outputs": [],
   "source": [
    "\n",
    "#stemming function\n",
    "\n",
    "import pandas as pd\n",
    "from nltk.stem import SnowballStemmer\n",
    "\n",
    "stemmer = SnowballStemmer('english')\n",
    "\n",
    "def stem_text(tokens):\n",
    "    stemmed_tokens = []\n",
    "    for token in tokens:\n",
    "        stemmed_tokens.append(stemmer.stem(token))\n",
    "    return stemmed_tokens"
   ]
  },
  {
   "cell_type": "code",
   "execution_count": 31,
   "metadata": {
    "id": "lG89aq78WMb1"
   },
   "outputs": [],
   "source": [
    "\n",
    "df['tokens'] = df['tokens'].apply(stem_text)"
   ]
  },
  {
   "cell_type": "code",
   "execution_count": 12,
   "metadata": {
    "colab": {
     "base_uri": "https://localhost:8080/"
    },
    "id": "hpHDliAPWOk2",
    "outputId": "07b21b7b-1cff-4c81-c228-cd247d7eafa8"
   },
   "outputs": [
    {
     "name": "stderr",
     "output_type": "stream",
     "text": [
      "[nltk_data] Downloading package stopwords to /root/nltk_data...\n",
      "[nltk_data]   Package stopwords is already up-to-date!\n"
     ]
    }
   ],
   "source": [
    "\n",
    "#removing stopwords\n",
    "import pandas as pd\n",
    "import nltk\n",
    "from nltk.corpus import stopwords\n",
    "\n",
    "nltk.download('stopwords')\n",
    "stop_words = set(stopwords.words('english'))\n",
    "\n",
    "def remove_stopwords(tokens):\n",
    "  tok = []\n",
    "  for token in tokens:\n",
    "    if token not in stop_words:\n",
    "      tok.append(token)\n",
    "  return tok"
   ]
  },
  {
   "cell_type": "code",
   "execution_count": 32,
   "metadata": {
    "id": "gUScVw94WP5U"
   },
   "outputs": [],
   "source": [
    "\n",
    "df['tokens'] = df['tokens'].apply(remove_stopwords)"
   ]
  },
  {
   "cell_type": "code",
   "execution_count": 33,
   "metadata": {
    "id": "qVFUld9qWRZM"
   },
   "outputs": [],
   "source": [
    "#bigram modelling\n",
    "bigram = gensim.models.Phrases(df[\"tokens\"], min_count=5, threshold=100)\n",
    "\n",
    "bigram_mod = gensim.models.phrases.Phraser(bigram)"
   ]
  },
  {
   "cell_type": "code",
   "execution_count": 34,
   "metadata": {
    "id": "BID-YxxoWSj9"
   },
   "outputs": [],
   "source": [
    "\n",
    "def create_bigrams(texts):\n",
    "\n",
    "    return [bigram_mod[doc] for doc in texts]"
   ]
  },
  {
   "cell_type": "code",
   "execution_count": 35,
   "metadata": {
    "id": "WmdvQUxzWTns"
   },
   "outputs": [],
   "source": [
    "\n",
    "data_bigrams = create_bigrams(df[\"tokens\"])"
   ]
  },
  {
   "cell_type": "code",
   "execution_count": 36,
   "metadata": {
    "id": "X3WnyVnhWVAD"
   },
   "outputs": [],
   "source": [
    "#lemmatizing function\n",
    "def lemmatize(texts, allowed_postags=['NOUN', 'ADJ', 'VERB']):\n",
    "\n",
    "    texts_op = []\n",
    "\n",
    "    for sent in texts:\n",
    "\n",
    "        doc = nlp(\" \".join(sent))\n",
    "\n",
    "        texts_op.append([token.lemma_ for token in doc if token.pos_ in allowed_postags])\n",
    "\n",
    "    return texts_op"
   ]
  },
  {
   "cell_type": "code",
   "execution_count": 37,
   "metadata": {
    "id": "DK3h2okgWWOG"
   },
   "outputs": [],
   "source": [
    "\n",
    "data_lemmatized = lemmatize(data_bigrams, allowed_postags=[ 'NOUN', 'ADJ', 'VERB'])"
   ]
  },
  {
   "cell_type": "code",
   "execution_count": 19,
   "metadata": {
    "id": "RaGZ1uXmZXHF"
   },
   "outputs": [],
   "source": [
    "import matplotlib.pyplot as plt\n"
   ]
  },
  {
   "cell_type": "markdown",
   "metadata": {},
   "source": [
    "To find out the most appropriate value of K, coherence scores are caulcated for different topics and plotting against the topics."
   ]
  },
  {
   "cell_type": "code",
   "execution_count": 20,
   "metadata": {
    "colab": {
     "base_uri": "https://localhost:8080/",
     "height": 452
    },
    "id": "z03GkzTIWds9",
    "outputId": "c813c375-7a58-4e39-95a9-917a0982e2d0"
   },
   "outputs": [
    {
     "data": {
      "image/png": "[encoded data removed]",
      "text/plain": [
       "<Figure size 640x480 with 1 Axes>"
      ]
     },
     "metadata": {},
     "output_type": "display_data"
    }
   ],
   "source": [
    "\n",
    "\n",
    "\n",
    "from gensim.models.ldamodel import LdaModel\n",
    "from gensim.corpora import Dictionary\n",
    "from gensim.models.coherencemodel import CoherenceModel\n",
    "import matplotlib.pyplot as plt\n",
    "\n",
    "dictionary = Dictionary(data_lemmatized)\n",
    "corpus = [dictionary.doc2bow(text) for text in data_lemmatized]\n",
    "\n",
    "min_topics = 2\n",
    "max_topics = 20\n",
    "step_size = 1\n",
    "coherence_scores = []\n",
    "for num_topics in range(min_topics, max_topics+1, step_size): \n",
    "    lda_model = LdaModel(\n",
    "        corpus=corpus,\n",
    "        id2word=dictionary,\n",
    "        num_topics=num_topics,\n",
    "        random_state=100,\n",
    "        update_every=1,\n",
    "        chunksize=100,\n",
    "        passes=50,\n",
    "        alpha='auto',\n",
    "        per_word_topics=True\n",
    "    )\n",
    "    coherence_model_lda = CoherenceModel( #the coherence score is calculated for the range of number of topics\n",
    "        model=lda_model,\n",
    "        texts=data_lemmatized,\n",
    "        dictionary=dictionary,\n",
    "        coherence='c_v'\n",
    "    )\n",
    "    coherence_scores.append(coherence_model_lda.get_coherence()) #all coherence scores are stored in a list\n",
    "\n",
    "plt.plot(range(min_topics, max_topics+1, step_size), coherence_scores) #the coherence scores are plotted against the number of topics\n",
    "plt.xlabel('Number of Topics')\n",
    "plt.ylabel('Coherence Score')\n",
    "plt.show()"
   ]
  },
  {
   "cell_type": "markdown",
   "metadata": {},
   "source": [
    "Additionally, perplexity scores are also visualised against the Number of Topics."
   ]
  },
  {
   "cell_type": "code",
   "execution_count": 21,
   "metadata": {
    "colab": {
     "base_uri": "https://localhost:8080/",
     "height": 449
    },
    "id": "eDN7f0GgZVBH",
    "outputId": "573cb4c4-3b20-441d-8106-008a635204bf"
   },
   "outputs": [
    {
     "data": {
      "image/png": "[encoded data removed]",
      "text/plain": [
       "<Figure size 640x480 with 1 Axes>"
      ]
     },
     "metadata": {},
     "output_type": "display_data"
    }
   ],
   "source": [
    "from gensim.models.ldamodel import LdaModel\n",
    "from gensim.corpora import Dictionary\n",
    "from gensim.models.coherencemodel import CoherenceModel\n",
    "import matplotlib.pyplot as plt\n",
    "\n",
    "#to find out the most appropriate value of K, calculate perplexity scores for different topics\n",
    "\n",
    "min_topics = 2\n",
    "max_topics = 20\n",
    "step_size = 1\n",
    "perplexity_scores = []\n",
    "for num_topics in range(min_topics, max_topics+1, step_size):\n",
    "    lda_model = LdaModel(\n",
    "        corpus=corpus,\n",
    "        id2word=dictionary,\n",
    "        num_topics=num_topics,\n",
    "        random_state=100,\n",
    "        update_every=1,\n",
    "        chunksize=100,\n",
    "        passes=50,\n",
    "        alpha='auto',\n",
    "        per_word_topics=True\n",
    "    )\n",
    "    coherence_model_lda = CoherenceModel(\n",
    "        model=lda_model,\n",
    "        texts=data_lemmatized,\n",
    "        dictionary=dictionary,\n",
    "        coherence='c_v'\n",
    "    )\n",
    "    perplexity_scores.append(lda_model.log_perplexity(corpus))  #all perplexity scores are stored in a list, log is used because Gensim expresses perplexities on the log scale\n",
    "\n",
    "plt.plot(range(min_topics, max_topics+1, step_size), perplexity_scores) #perplexity is plotted against the number of topics\n",
    "plt.xlabel('Number of Topics')\n",
    "plt.ylabel('Perplexity Score')\n",
    "plt.show()\n"
   ]
  },
  {
   "cell_type": "code",
   "execution_count": 22,
   "metadata": {
    "colab": {
     "base_uri": "https://localhost:8080/"
    },
    "id": "KUEQNkd8lv50",
    "outputId": "588ee113-c5c8-42db-f9ae-46cd0785b230"
   },
   "outputs": [
    {
     "data": {
      "text/plain": [
       "[0.25141210109061307,\n",
       " 0.3374845096198551,\n",
       " 0.3264328757428314,\n",
       " 0.3038008466590412,\n",
       " 0.2951427648581407,\n",
       " 0.310527953301203,\n",
       " 0.30096778030820676,\n",
       " 0.34622648232034425,\n",
       " 0.3390547572258865,\n",
       " 0.32637275806916294,\n",
       " 0.36510418736947403,\n",
       " 0.30843043342123827,\n",
       " 0.3285479163276493,\n",
       " 0.3563459900559907,\n",
       " 0.37328364045107354,\n",
       " 0.3753988661114782,\n",
       " 0.41787535959022376,\n",
       " 0.3945681365811367,\n",
       " 0.38802820706186975]"
      ]
     },
     "execution_count": 22,
     "metadata": {},
     "output_type": "execute_result"
    }
   ],
   "source": [
    "coherence_scores"
   ]
  },
  {
   "cell_type": "markdown",
   "metadata": {},
   "source": [
    "The highest coherence score is found at 18 topics. (0.41)"
   ]
  }
 ],
 "metadata": {
  "accelerator": "GPU",
  "colab": {
   "gpuType": "A100",
   "machine_shape": "hm",
   "provenance": []
  },
  "kernelspec": {
   "display_name": "Python 3 (ipykernel)",
   "language": "python",
   "name": "python3"
  },
  "language_info": {
   "codemirror_mode": {
    "name": "ipython",
    "version": 3
   },
   "file_extension": ".py",
   "mimetype": "text/x-python",
   "name": "python",
   "nbconvert_exporter": "python",
   "pygments_lexer": "ipython3",
   "version": "3.11.3"
  }
 },
 "nbformat": 4,
 "nbformat_minor": 1
}
