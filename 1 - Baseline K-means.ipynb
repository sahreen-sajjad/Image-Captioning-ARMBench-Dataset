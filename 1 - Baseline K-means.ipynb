{
 "cells": [
  {
   "cell_type": "markdown",
   "id": "0ea19c92",
   "metadata": {},
   "source": [
    "# Baseline K-Means"
   ]
  },
  {
   "cell_type": "markdown",
   "id": "c257610e",
   "metadata": {},
   "source": [
    "Here, Baseline K-means is implemented on the ARMBench Dataset Images. The Silhoutte Scores are obtained and plotted against the number of clusters to help obtain an optimal value for K (Number of clusters)"
   ]
  },
  {
   "cell_type": "markdown",
   "id": "76cef2c3",
   "metadata": {},
   "source": [
    "Before implementing K-means, the necessary libraries are imported"
   ]
  },
  {
   "cell_type": "code",
   "execution_count": 1,
   "id": "8bb88752",
   "metadata": {},
   "outputs": [
    {
     "name": "stdout",
     "output_type": "stream",
     "text": [
      "Requirement already satisfied: tensorflow in c:\\users\\sahre\\anaconda3\\lib\\site-packages (2.13.0)\n",
      "Requirement already satisfied: numpy in c:\\users\\sahre\\anaconda3\\lib\\site-packages (1.24.3)\n",
      "Requirement already satisfied: pandas in c:\\users\\sahre\\anaconda3\\lib\\site-packages (2.0.3)\n",
      "Requirement already satisfied: scikit-learn in c:\\users\\sahre\\anaconda3\\lib\\site-packages (1.2.2)\n",
      "Requirement already satisfied: scikit-image in c:\\users\\sahre\\anaconda3\\lib\\site-packages (0.20.0)\n",
      "Requirement already satisfied: tensorflow-intel==2.13.0 in c:\\users\\sahre\\anaconda3\\lib\\site-packages (from tensorflow) (2.13.0)\n",
      "Requirement already satisfied: absl-py>=1.0.0 in c:\\users\\sahre\\anaconda3\\lib\\site-packages (from tensorflow-intel==2.13.0->tensorflow) (1.4.0)\n",
      "Requirement already satisfied: astunparse>=1.6.0 in c:\\users\\sahre\\anaconda3\\lib\\site-packages (from tensorflow-intel==2.13.0->tensorflow) (1.6.3)\n",
      "Requirement already satisfied: flatbuffers>=23.1.21 in c:\\users\\sahre\\anaconda3\\lib\\site-packages (from tensorflow-intel==2.13.0->tensorflow) (23.5.26)\n",
      "Requirement already satisfied: gast<=0.4.0,>=0.2.1 in c:\\users\\sahre\\anaconda3\\lib\\site-packages (from tensorflow-intel==2.13.0->tensorflow) (0.4.0)\n",
      "Requirement already satisfied: google-pasta>=0.1.1 in c:\\users\\sahre\\anaconda3\\lib\\site-packages (from tensorflow-intel==2.13.0->tensorflow) (0.2.0)\n",
      "Requirement already satisfied: h5py>=2.9.0 in c:\\users\\sahre\\anaconda3\\lib\\site-packages (from tensorflow-intel==2.13.0->tensorflow) (3.7.0)\n",
      "Requirement already satisfied: libclang>=13.0.0 in c:\\users\\sahre\\anaconda3\\lib\\site-packages (from tensorflow-intel==2.13.0->tensorflow) (16.0.6)\n",
      "Requirement already satisfied: opt-einsum>=2.3.2 in c:\\users\\sahre\\anaconda3\\lib\\site-packages (from tensorflow-intel==2.13.0->tensorflow) (3.3.0)\n",
      "Requirement already satisfied: packaging in c:\\users\\sahre\\anaconda3\\lib\\site-packages (from tensorflow-intel==2.13.0->tensorflow) (23.0)\n",
      "Requirement already satisfied: protobuf!=4.21.0,!=4.21.1,!=4.21.2,!=4.21.3,!=4.21.4,!=4.21.5,<5.0.0dev,>=3.20.3 in c:\\users\\sahre\\anaconda3\\lib\\site-packages (from tensorflow-intel==2.13.0->tensorflow) (4.23.4)\n",
      "Requirement already satisfied: setuptools in c:\\users\\sahre\\anaconda3\\lib\\site-packages (from tensorflow-intel==2.13.0->tensorflow) (68.0.0)\n",
      "Requirement already satisfied: six>=1.12.0 in c:\\users\\sahre\\anaconda3\\lib\\site-packages (from tensorflow-intel==2.13.0->tensorflow) (1.16.0)\n",
      "Requirement already satisfied: termcolor>=1.1.0 in c:\\users\\sahre\\anaconda3\\lib\\site-packages (from tensorflow-intel==2.13.0->tensorflow) (2.3.0)\n",
      "Requirement already satisfied: typing-extensions<4.6.0,>=3.6.6 in c:\\users\\sahre\\anaconda3\\lib\\site-packages (from tensorflow-intel==2.13.0->tensorflow) (4.5.0)\n",
      "Requirement already satisfied: wrapt>=1.11.0 in c:\\users\\sahre\\anaconda3\\lib\\site-packages (from tensorflow-intel==2.13.0->tensorflow) (1.14.1)\n",
      "Requirement already satisfied: grpcio<2.0,>=1.24.3 in c:\\users\\sahre\\anaconda3\\lib\\site-packages (from tensorflow-intel==2.13.0->tensorflow) (1.56.0)\n",
      "Requirement already satisfied: tensorboard<2.14,>=2.13 in c:\\users\\sahre\\anaconda3\\lib\\site-packages (from tensorflow-intel==2.13.0->tensorflow) (2.13.0)\n",
      "Requirement already satisfied: tensorflow-estimator<2.14,>=2.13.0 in c:\\users\\sahre\\anaconda3\\lib\\site-packages (from tensorflow-intel==2.13.0->tensorflow) (2.13.0)\n",
      "Requirement already satisfied: keras<2.14,>=2.13.1 in c:\\users\\sahre\\anaconda3\\lib\\site-packages (from tensorflow-intel==2.13.0->tensorflow) (2.13.1)\n",
      "Requirement already satisfied: tensorflow-io-gcs-filesystem>=0.23.1 in c:\\users\\sahre\\anaconda3\\lib\\site-packages (from tensorflow-intel==2.13.0->tensorflow) (0.31.0)\n",
      "Requirement already satisfied: python-dateutil>=2.8.2 in c:\\users\\sahre\\anaconda3\\lib\\site-packages (from pandas) (2.8.2)\n",
      "Requirement already satisfied: pytz>=2020.1 in c:\\users\\sahre\\anaconda3\\lib\\site-packages (from pandas) (2022.7)\n",
      "Requirement already satisfied: tzdata>=2022.1 in c:\\users\\sahre\\anaconda3\\lib\\site-packages (from pandas) (2023.3)\n",
      "Requirement already satisfied: scipy>=1.3.2 in c:\\users\\sahre\\anaconda3\\lib\\site-packages (from scikit-learn) (1.10.1)\n",
      "Requirement already satisfied: joblib>=1.1.1 in c:\\users\\sahre\\anaconda3\\lib\\site-packages (from scikit-learn) (1.2.0)\n",
      "Requirement already satisfied: threadpoolctl>=2.0.0 in c:\\users\\sahre\\anaconda3\\lib\\site-packages (from scikit-learn) (2.2.0)\n",
      "Requirement already satisfied: networkx>=2.8 in c:\\users\\sahre\\anaconda3\\lib\\site-packages (from scikit-image) (2.8.4)\n",
      "Requirement already satisfied: pillow>=9.0.1 in c:\\users\\sahre\\anaconda3\\lib\\site-packages (from scikit-image) (9.4.0)\n",
      "Requirement already satisfied: imageio>=2.4.1 in c:\\users\\sahre\\anaconda3\\lib\\site-packages (from scikit-image) (2.26.0)\n",
      "Requirement already satisfied: tifffile>=2019.7.26 in c:\\users\\sahre\\anaconda3\\lib\\site-packages (from scikit-image) (2021.7.2)\n",
      "Requirement already satisfied: PyWavelets>=1.1.1 in c:\\users\\sahre\\anaconda3\\lib\\site-packages (from scikit-image) (1.4.1)\n",
      "Requirement already satisfied: lazy_loader>=0.1 in c:\\users\\sahre\\anaconda3\\lib\\site-packages (from scikit-image) (0.2)\n",
      "Requirement already satisfied: wheel<1.0,>=0.23.0 in c:\\users\\sahre\\anaconda3\\lib\\site-packages (from astunparse>=1.6.0->tensorflow-intel==2.13.0->tensorflow) (0.38.4)\n",
      "Requirement already satisfied: google-auth<3,>=1.6.3 in c:\\users\\sahre\\anaconda3\\lib\\site-packages (from tensorboard<2.14,>=2.13->tensorflow-intel==2.13.0->tensorflow) (2.22.0)\n",
      "Requirement already satisfied: google-auth-oauthlib<1.1,>=0.5 in c:\\users\\sahre\\anaconda3\\lib\\site-packages (from tensorboard<2.14,>=2.13->tensorflow-intel==2.13.0->tensorflow) (1.0.0)\n",
      "Requirement already satisfied: markdown>=2.6.8 in c:\\users\\sahre\\anaconda3\\lib\\site-packages (from tensorboard<2.14,>=2.13->tensorflow-intel==2.13.0->tensorflow) (3.4.1)\n",
      "Requirement already satisfied: requests<3,>=2.21.0 in c:\\users\\sahre\\anaconda3\\lib\\site-packages (from tensorboard<2.14,>=2.13->tensorflow-intel==2.13.0->tensorflow) (2.29.0)\n",
      "Requirement already satisfied: tensorboard-data-server<0.8.0,>=0.7.0 in c:\\users\\sahre\\anaconda3\\lib\\site-packages (from tensorboard<2.14,>=2.13->tensorflow-intel==2.13.0->tensorflow) (0.7.1)\n",
      "Requirement already satisfied: werkzeug>=1.0.1 in c:\\users\\sahre\\anaconda3\\lib\\site-packages (from tensorboard<2.14,>=2.13->tensorflow-intel==2.13.0->tensorflow) (2.2.3)\n",
      "Requirement already satisfied: cachetools<6.0,>=2.0.0 in c:\\users\\sahre\\anaconda3\\lib\\site-packages (from google-auth<3,>=1.6.3->tensorboard<2.14,>=2.13->tensorflow-intel==2.13.0->tensorflow) (5.3.1)\n",
      "Requirement already satisfied: pyasn1-modules>=0.2.1 in c:\\users\\sahre\\anaconda3\\lib\\site-packages (from google-auth<3,>=1.6.3->tensorboard<2.14,>=2.13->tensorflow-intel==2.13.0->tensorflow) (0.2.8)\n",
      "Requirement already satisfied: rsa<5,>=3.1.4 in c:\\users\\sahre\\anaconda3\\lib\\site-packages (from google-auth<3,>=1.6.3->tensorboard<2.14,>=2.13->tensorflow-intel==2.13.0->tensorflow) (4.9)\n",
      "Requirement already satisfied: urllib3<2.0 in c:\\users\\sahre\\anaconda3\\lib\\site-packages (from google-auth<3,>=1.6.3->tensorboard<2.14,>=2.13->tensorflow-intel==2.13.0->tensorflow) (1.26.16)\n",
      "Requirement already satisfied: requests-oauthlib>=0.7.0 in c:\\users\\sahre\\anaconda3\\lib\\site-packages (from google-auth-oauthlib<1.1,>=0.5->tensorboard<2.14,>=2.13->tensorflow-intel==2.13.0->tensorflow) (1.3.1)\n",
      "Requirement already satisfied: charset-normalizer<4,>=2 in c:\\users\\sahre\\anaconda3\\lib\\site-packages (from requests<3,>=2.21.0->tensorboard<2.14,>=2.13->tensorflow-intel==2.13.0->tensorflow) (2.0.4)\n",
      "Requirement already satisfied: idna<4,>=2.5 in c:\\users\\sahre\\anaconda3\\lib\\site-packages (from requests<3,>=2.21.0->tensorboard<2.14,>=2.13->tensorflow-intel==2.13.0->tensorflow) (3.4)\n",
      "Requirement already satisfied: certifi>=2017.4.17 in c:\\users\\sahre\\anaconda3\\lib\\site-packages (from requests<3,>=2.21.0->tensorboard<2.14,>=2.13->tensorflow-intel==2.13.0->tensorflow) (2023.5.7)\n",
      "Requirement already satisfied: MarkupSafe>=2.1.1 in c:\\users\\sahre\\anaconda3\\lib\\site-packages (from werkzeug>=1.0.1->tensorboard<2.14,>=2.13->tensorflow-intel==2.13.0->tensorflow) (2.1.1)\n",
      "Requirement already satisfied: pyasn1<0.5.0,>=0.4.6 in c:\\users\\sahre\\anaconda3\\lib\\site-packages (from pyasn1-modules>=0.2.1->google-auth<3,>=1.6.3->tensorboard<2.14,>=2.13->tensorflow-intel==2.13.0->tensorflow) (0.4.8)\n",
      "Requirement already satisfied: oauthlib>=3.0.0 in c:\\users\\sahre\\anaconda3\\lib\\site-packages (from requests-oauthlib>=0.7.0->google-auth-oauthlib<1.1,>=0.5->tensorboard<2.14,>=2.13->tensorflow-intel==2.13.0->tensorflow) (3.2.2)\n",
      "Note: you may need to restart the kernel to use updated packages.\n"
     ]
    }
   ],
   "source": [
    "pip install tensorflow numpy pandas scikit-learn scikit-image #Install necessary libraries and packages"
   ]
  },
  {
   "cell_type": "code",
   "execution_count": 2,
   "id": "a09e4898",
   "metadata": {},
   "outputs": [],
   "source": [
    "import numpy as np #import necessary libraries\n",
    "import os\n",
    "import numpy as np\n",
    "from sklearn.cluster import KMeans\n",
    "from sklearn.decomposition import PCA\n",
    "from sklearn.model_selection import train_test_split\n",
    "from sklearn.linear_model import LogisticRegression\n",
    "from sklearn.metrics import accuracy_score, precision_recall_fscore_support\n",
    "import matplotlib.pyplot as plt\n",
    "import numpy as np\n",
    "from sklearn.cluster import KMeans\n",
    "from sklearn.decomposition import PCA\n",
    "from sklearn.model_selection import train_test_split\n",
    "from sklearn.linear_model import LogisticRegression\n",
    "from sklearn.metrics import (\n",
    "    accuracy_score,\n",
    "    precision_recall_fscore_support,\n",
    "    silhouette_score,\n",
    ")\n",
    "import matplotlib.pyplot as plt\n"
   ]
  },
  {
   "cell_type": "code",
   "execution_count": 3,
   "id": "1a373416",
   "metadata": {},
   "outputs": [
    {
     "name": "stdout",
     "output_type": "stream",
     "text": [
      "Requirement already satisfied: timm in c:\\users\\sahre\\anaconda3\\lib\\site-packages (0.9.5)\n",
      "Requirement already satisfied: torch>=1.7 in c:\\users\\sahre\\anaconda3\\lib\\site-packages (from timm) (2.0.1)\n",
      "Requirement already satisfied: torchvision in c:\\users\\sahre\\anaconda3\\lib\\site-packages (from timm) (0.15.2)\n",
      "Requirement already satisfied: pyyaml in c:\\users\\sahre\\anaconda3\\lib\\site-packages (from timm) (6.0)\n",
      "Requirement already satisfied: huggingface-hub in c:\\users\\sahre\\anaconda3\\lib\\site-packages (from timm) (0.16.4)\n",
      "Requirement already satisfied: safetensors in c:\\users\\sahre\\anaconda3\\lib\\site-packages (from timm) (0.3.1)\n",
      "Requirement already satisfied: filelock in c:\\users\\sahre\\anaconda3\\lib\\site-packages (from torch>=1.7->timm) (3.9.0)\n",
      "Requirement already satisfied: typing-extensions in c:\\users\\sahre\\anaconda3\\lib\\site-packages (from torch>=1.7->timm) (4.5.0)\n",
      "Requirement already satisfied: sympy in c:\\users\\sahre\\anaconda3\\lib\\site-packages (from torch>=1.7->timm) (1.11.1)\n",
      "Requirement already satisfied: networkx in c:\\users\\sahre\\anaconda3\\lib\\site-packages (from torch>=1.7->timm) (2.8.4)\n",
      "Requirement already satisfied: jinja2 in c:\\users\\sahre\\anaconda3\\lib\\site-packages (from torch>=1.7->timm) (3.1.2)\n",
      "Requirement already satisfied: fsspec in c:\\users\\sahre\\anaconda3\\lib\\site-packages (from huggingface-hub->timm) (2023.3.0)\n",
      "Requirement already satisfied: requests in c:\\users\\sahre\\anaconda3\\lib\\site-packages (from huggingface-hub->timm) (2.29.0)\n",
      "Requirement already satisfied: tqdm>=4.42.1 in c:\\users\\sahre\\anaconda3\\lib\\site-packages (from huggingface-hub->timm) (4.65.0)\n",
      "Requirement already satisfied: packaging>=20.9 in c:\\users\\sahre\\anaconda3\\lib\\site-packages (from huggingface-hub->timm) (23.0)\n",
      "Requirement already satisfied: numpy in c:\\users\\sahre\\anaconda3\\lib\\site-packages (from torchvision->timm) (1.24.3)\n",
      "Requirement already satisfied: pillow!=8.3.*,>=5.3.0 in c:\\users\\sahre\\anaconda3\\lib\\site-packages (from torchvision->timm) (9.4.0)\n",
      "Requirement already satisfied: colorama in c:\\users\\sahre\\anaconda3\\lib\\site-packages (from tqdm>=4.42.1->huggingface-hub->timm) (0.4.6)\n",
      "Requirement already satisfied: MarkupSafe>=2.0 in c:\\users\\sahre\\anaconda3\\lib\\site-packages (from jinja2->torch>=1.7->timm) (2.1.1)\n",
      "Requirement already satisfied: charset-normalizer<4,>=2 in c:\\users\\sahre\\anaconda3\\lib\\site-packages (from requests->huggingface-hub->timm) (2.0.4)\n",
      "Requirement already satisfied: idna<4,>=2.5 in c:\\users\\sahre\\anaconda3\\lib\\site-packages (from requests->huggingface-hub->timm) (3.4)\n",
      "Requirement already satisfied: urllib3<1.27,>=1.21.1 in c:\\users\\sahre\\anaconda3\\lib\\site-packages (from requests->huggingface-hub->timm) (1.26.16)\n",
      "Requirement already satisfied: certifi>=2017.4.17 in c:\\users\\sahre\\anaconda3\\lib\\site-packages (from requests->huggingface-hub->timm) (2023.5.7)\n",
      "Requirement already satisfied: mpmath>=0.19 in c:\\users\\sahre\\anaconda3\\lib\\site-packages (from sympy->torch>=1.7->timm) (1.2.1)\n",
      "Note: you may need to restart the kernel to use updated packages.\n"
     ]
    }
   ],
   "source": [
    "pip install timm"
   ]
  },
  {
   "cell_type": "code",
   "execution_count": 1,
   "id": "97ff6b7e",
   "metadata": {},
   "outputs": [
    {
     "name": "stderr",
     "output_type": "stream",
     "text": [
      "C:\\Users\\sahre\\anaconda3\\Lib\\site-packages\\paramiko\\transport.py:219: CryptographyDeprecationWarning: Blowfish has been deprecated\n",
      "  \"class\": algorithms.Blowfish,\n"
     ]
    }
   ],
   "source": [
    "import os\n",
    "from skimage.io import imread, imsave\n",
    "from skimage.transform import resize\n",
    "from tqdm import tqdm\n",
    "import time\n",
    "import numpy as np\n",
    "import pandas as pd\n",
    "\n",
    "def load_images(image_dir, df, target_size=(64, 64), num_images=50000, save_dir=None): #load and preprocess images to a size of 64x64\n",
    "    image_list = []\n",
    "    labels = []\n",
    "    count = 0  \n",
    "\n",
    "    folder_names = sorted(os.listdir(image_dir))\n",
    "\n",
    "    if save_dir:\n",
    "        images_filename = os.path.join(save_dir, \"images.npy\")\n",
    "        labels_filename = os.path.join(save_dir, \"labels.npy\")\n",
    "\n",
    "        if os.path.exists(images_filename) and os.path.exists(labels_filename):\n",
    "            print(\"Loading images and labels from saved files...\")\n",
    "            image_list = np.load(images_filename, allow_pickle=True)\n",
    "            labels = np.load(labels_filename, allow_pickle=True)\n",
    "            return image_list, labels\n",
    "\n",
    "    progress_bar = tqdm(total=num_images, desc=\"Loading images\", unit=\"image\")\n",
    "\n",
    "    start_time = time.time() \n",
    "\n",
    "    for folder_name in folder_names:\n",
    "        folder_path = os.path.join(image_dir, folder_name)\n",
    "\n",
    "        if os.path.isdir(folder_path):\n",
    "            image_files = [f for f in os.listdir(folder_path) if f.lower().endswith('.jpg')] #only jpg files from the folders are uploaded\n",
    "\n",
    "            if len(image_files) > 0:\n",
    "                pick_rgb_file = os.path.join(folder_path, \"PickRGB.jpg\") #Among the jpg files, PickRGB file is chosen if it is present\n",
    "                image_file = pick_rgb_file if os.path.exists(pick_rgb_file) else image_files[0] #Else any other jpg file is chosen\n",
    "\n",
    "                image_path = os.path.join(folder_path, image_file)\n",
    "                img = imread(image_path)\n",
    "                img = resize(img, target_size, mode='reflect')\n",
    "                image_list.append(img)\n",
    "                labels.append(df.loc[count, 'Container']) \n",
    "                count += 1\n",
    "\n",
    "    \n",
    "                progress_bar.update(1)\n",
    "\n",
    "                if count == num_images:\n",
    "               \n",
    "                    progress_bar.close()\n",
    "\n",
    "             \n",
    "                    if save_dir:\n",
    "                        print(\"Saving images and labels...\")\n",
    "                        os.makedirs(save_dir, exist_ok=True)\n",
    "                        np.save(os.path.join(save_dir, \"images.npy\"), np.array(image_list))\n",
    "                        np.save(os.path.join(save_dir, \"labels.npy\"), np.array(labels))\n",
    "\n",
    "                  \n",
    "                    elapsed_time = time.time() - start_time\n",
    "                    time_per_image = elapsed_time / num_images\n",
    "                    time_left = (num_images - count) * time_per_image\n",
    "                    print(f\"Time left: {time_left:.2f} seconds\")\n",
    "\n",
    "                    return np.array(image_list), labels\n",
    "\n",
    "\n",
    "    progress_bar.close()\n",
    "\n",
    "\n",
    "    if save_dir:\n",
    "        print(\"Saving images and labels...\")\n",
    "        os.makedirs(save_dir, exist_ok=True)\n",
    "        np.save(os.path.join(save_dir, \"images.npy\"), np.array(image_list)) #save the preprocessed images and labels\n",
    "        np.save(os.path.join(save_dir, \"labels.npy\"), np.array(labels))\n",
    "\n",
    "\n",
    "    elapsed_time = time.time() - start_time\n",
    "    time_per_image = elapsed_time / count\n",
    "    time_left = (num_images - count) * time_per_image\n",
    "    print(f\"Time left: {time_left:.2f} seconds\")\n",
    "\n",
    "    return np.array(image_list), labels"
   ]
  },
  {
   "cell_type": "code",
   "execution_count": 4,
   "id": "3039af70",
   "metadata": {},
   "outputs": [],
   "source": [
    "def load_saved_images_labels(load_dir): #get images and corresponding labels\n",
    "    images_filename = os.path.join(load_dir, \"images.npy\")\n",
    "    labels_filename = os.path.join(load_dir, \"labels.npy\")\n",
    "\n",
    "    image_list = np.load(images_filename, allow_pickle=True)\n",
    "    labels = np.load(labels_filename, allow_pickle=True)\n",
    "\n",
    "    return image_list, labels\n",
    "\n",
    "\n",
    "load_dir = 'D:/Down/processedimages'\n",
    "images, labels = load_saved_images_labels(load_dir)"
   ]
  },
  {
   "cell_type": "markdown",
   "id": "19e02cd2",
   "metadata": {},
   "source": [
    "The Images are first flattened before clustering. The cluster range is defined from 2 to 10. While iterating over the cluster range, the silhoutte scores are obtained and stored in a list. These are plotted against the number of clusters using Matplotlib."
   ]
  },
  {
   "cell_type": "code",
   "execution_count": 5,
   "id": "b13f6541",
   "metadata": {},
   "outputs": [
    {
     "name": "stderr",
     "output_type": "stream",
     "text": [
      "C:\\Users\\sahre\\anaconda3\\Lib\\site-packages\\sklearn\\cluster\\_kmeans.py:870: FutureWarning: The default value of `n_init` will change from 10 to 'auto' in 1.4. Set the value of `n_init` explicitly to suppress the warning\n",
      "  warnings.warn(\n",
      "C:\\Users\\sahre\\anaconda3\\Lib\\site-packages\\sklearn\\cluster\\_kmeans.py:870: FutureWarning: The default value of `n_init` will change from 10 to 'auto' in 1.4. Set the value of `n_init` explicitly to suppress the warning\n",
      "  warnings.warn(\n",
      "C:\\Users\\sahre\\anaconda3\\Lib\\site-packages\\sklearn\\cluster\\_kmeans.py:870: FutureWarning: The default value of `n_init` will change from 10 to 'auto' in 1.4. Set the value of `n_init` explicitly to suppress the warning\n",
      "  warnings.warn(\n",
      "C:\\Users\\sahre\\anaconda3\\Lib\\site-packages\\sklearn\\cluster\\_kmeans.py:870: FutureWarning: The default value of `n_init` will change from 10 to 'auto' in 1.4. Set the value of `n_init` explicitly to suppress the warning\n",
      "  warnings.warn(\n",
      "C:\\Users\\sahre\\anaconda3\\Lib\\site-packages\\sklearn\\cluster\\_kmeans.py:870: FutureWarning: The default value of `n_init` will change from 10 to 'auto' in 1.4. Set the value of `n_init` explicitly to suppress the warning\n",
      "  warnings.warn(\n",
      "C:\\Users\\sahre\\anaconda3\\Lib\\site-packages\\sklearn\\cluster\\_kmeans.py:870: FutureWarning: The default value of `n_init` will change from 10 to 'auto' in 1.4. Set the value of `n_init` explicitly to suppress the warning\n",
      "  warnings.warn(\n",
      "C:\\Users\\sahre\\anaconda3\\Lib\\site-packages\\sklearn\\cluster\\_kmeans.py:870: FutureWarning: The default value of `n_init` will change from 10 to 'auto' in 1.4. Set the value of `n_init` explicitly to suppress the warning\n",
      "  warnings.warn(\n",
      "C:\\Users\\sahre\\anaconda3\\Lib\\site-packages\\sklearn\\cluster\\_kmeans.py:870: FutureWarning: The default value of `n_init` will change from 10 to 'auto' in 1.4. Set the value of `n_init` explicitly to suppress the warning\n",
      "  warnings.warn(\n",
      "C:\\Users\\sahre\\anaconda3\\Lib\\site-packages\\sklearn\\cluster\\_kmeans.py:870: FutureWarning: The default value of `n_init` will change from 10 to 'auto' in 1.4. Set the value of `n_init` explicitly to suppress the warning\n",
      "  warnings.warn(\n"
     ]
    },
    {
     "data": {
      "image/png": "[encoded data removed]",
      "text/plain": [
       "<Figure size 640x480 with 1 Axes>"
      ]
     },
     "metadata": {},
     "output_type": "display_data"
    }
   ],
   "source": [
    "import numpy as np\n",
    "import matplotlib.pyplot as plt\n",
    "from sklearn.cluster import KMeans\n",
    "from sklearn.metrics import silhouette_score\n",
    "\n",
    "\n",
    "n_samples = len(images)\n",
    "images_flattened = images.reshape(n_samples, -1)\n",
    "\n",
    "cluster_range = range(2, 11) #cluster numbers are defined from 2 to 10\n",
    "\n",
    "silhouette_scores = []\n",
    "\n",
    "for num_clusters in cluster_range: #Silhoutte Score is stored in a list for all cluster numbers\n",
    "    kmeans = KMeans(n_clusters=num_clusters, random_state=42)\n",
    "    cluster_labels = kmeans.fit_predict(images_flattened)\n",
    "    silhouette_avg = silhouette_score(images_flattened, cluster_labels)\n",
    "    silhouette_scores.append(silhouette_avg)\n",
    "\n",
    "plt.plot(cluster_range, silhouette_scores, marker='o') #The graph is plotted\n",
    "plt.xlabel('Number of Clusters')\n",
    "plt.ylabel('Silhouette Score')\n",
    "plt.title('Silhouette Score vs. Number of Clusters')\n",
    "plt.xticks(cluster_range)\n",
    "plt.grid(True)\n",
    "plt.show()\n"
   ]
  },
  {
   "cell_type": "code",
   "execution_count": null,
   "id": "b8e5dc56",
   "metadata": {},
   "outputs": [],
   "source": []
  }
 ],
 "metadata": {
  "kernelspec": {
   "display_name": "Python 3 (ipykernel)",
   "language": "python",
   "name": "python3"
  },
  "language_info": {
   "codemirror_mode": {
    "name": "ipython",
    "version": 3
   },
   "file_extension": ".py",
   "mimetype": "text/x-python",
   "name": "python",
   "nbconvert_exporter": "python",
   "pygments_lexer": "ipython3",
   "version": "3.11.3"
  }
 },
 "nbformat": 4,
 "nbformat_minor": 5
}
